{
 "cells": [
  {
   "cell_type": "code",
   "execution_count": 1,
   "metadata": {},
   "outputs": [
    {
     "name": "stdout",
     "output_type": "stream",
     "text": [
      "Custom ReLU : [0, 0, 0, 1, 2]\n",
      "PyTorch ReLU: [0. 0. 0. 1. 2.]\n",
      "Custom Sigmoid : [0.11920292202211755, 0.2689414213699951, 0.5, 0.7310585786300049, 0.8807970779778823]\n",
      "PyTorch Sigmoid: [0.11920292 0.26894143 0.5        0.7310586  0.880797  ]\n",
      "Custom Tanh : [-0.964027580075817, -0.7615941559557649, 0.0, 0.7615941559557649, 0.964027580075817]\n",
      "PyTorch Tanh: [-0.9640276 -0.7615942  0.         0.7615942  0.9640276]\n",
      "Sigmoid identiques ? True\n",
      "Tanh identiques ? True\n"
     ]
    }
   ],
   "source": [
    "import torch\n",
    "import math\n",
    "\n",
    "# Fonctions personnalisées\n",
    "def custom_relu(x):\n",
    "    return x if x > 0 else 0\n",
    "\n",
    "def custom_sigmoid(x):\n",
    "    return 1 / (1 + math.exp(-x))\n",
    "\n",
    "def custom_tanh(x):\n",
    "    ex = math.exp(x)\n",
    "    e_neg_x = math.exp(-x)\n",
    "    return (ex - e_neg_x) / (ex + e_neg_x)\n",
    "\n",
    "# Fonction d'application sur une liste\n",
    "def apply_custom_activation(inputs, func):\n",
    "    return [func(x) for x in inputs]\n",
    "\n",
    "# Jeu d'exemple\n",
    "data = [-2, -1, 0, 1, 2]\n",
    "\n",
    "# Calcul avec fonctions personnalisées\n",
    "custom_relu_result = apply_custom_activation(data, custom_relu)\n",
    "custom_sigmoid_result = apply_custom_activation(data, custom_sigmoid)\n",
    "custom_tanh_result = apply_custom_activation(data, custom_tanh)\n",
    "\n",
    "# Conversion en tenseur pour PyTorch\n",
    "tensor_data = torch.tensor(data, dtype=torch.float32)\n",
    "\n",
    "# Calcul avec PyTorch\n",
    "torch_relu_result = torch.relu(tensor_data)\n",
    "torch_sigmoid_result = torch.sigmoid(tensor_data)\n",
    "torch_tanh_result = torch.tanh(tensor_data)\n",
    "\n",
    "# Comparaison en affichant les résultats\n",
    "print(\"Custom ReLU :\", custom_relu_result)\n",
    "print(\"PyTorch ReLU:\", torch_relu_result.numpy())\n",
    "\n",
    "print(\"Custom Sigmoid :\", custom_sigmoid_result)\n",
    "print(\"PyTorch Sigmoid:\", torch_sigmoid_result.numpy())\n",
    "\n",
    "print(\"Custom Tanh :\", custom_tanh_result)\n",
    "print(\"PyTorch Tanh:\", torch_tanh_result.numpy())\n",
    "\n",
    "# Comparaison numérique (pour les fonctions sigmoid et tanh, par exemple)\n",
    "# Convertir la liste en tensor pour comparer avec torch.allclose\n",
    "custom_sigmoid_tensor = torch.tensor(custom_sigmoid_result, dtype=torch.float32)\n",
    "custom_tanh_tensor = torch.tensor(custom_tanh_result, dtype=torch.float32)\n",
    "\n",
    "print(\"Sigmoid identiques ?\",\n",
    "      torch.allclose(custom_sigmoid_tensor, torch_sigmoid_result, atol=1e-6))\n",
    "print(\"Tanh identiques ?\",\n",
    "      torch.allclose(custom_tanh_tensor, torch_tanh_result, atol=1e-6))\n"
   ]
  },
  {
   "cell_type": "code",
   "execution_count": null,
   "metadata": {},
   "outputs": [],
   "source": [
    "# Comparaison en affichant les résultats\n",
    "print(\"Custom ReLU :\", custom_relu_result)\n",
    "print(\"PyTorch ReLU:\", torch_relu_result.numpy())\n",
    "\n",
    "print(\"Custom Sigmoid :\", custom_sigmoid_result)\n",
    "print(\"PyTorch Sigmoid:\", torch_sigmoid_result.numpy())\n",
    "\n",
    "print(\"Custom Tanh :\", custom_tanh_result)\n",
    "print(\"PyTorch Tanh:\", torch_tanh_result.numpy())\n",
    "\n",
    "# Comparaison numérique (pour les fonctions sigmoid et tanh, par exemple)\n",
    "# Convertir la liste en tensor pour comparer avec torch.allclose\n",
    "custom_sigmoid_tensor = torch.tensor(custom_sigmoid_result, dtype=torch.float32)\n",
    "custom_tanh_tensor = torch.tensor(custom_tanh_result, dtype=torch.float32)\n",
    "\n",
    "print(\"Sigmoid identiques ?\",\n",
    "      torch.allclose(custom_sigmoid_tensor, torch_sigmoid_result, atol=1e-6))\n",
    "print(\"Tanh identiques ?\",\n",
    "      torch.allclose(custom_tanh_tensor, torch_tanh_result, atol=1e-6))\n"
   ]
  },
  {
   "cell_type": "code",
   "execution_count": 2,
   "metadata": {},
   "outputs": [],
   "source": [
    "import torch\n",
    "\n",
    "def cross_entropy_loss1(logits: torch.Tensor, labels: torch.Tensor):\n",
    "    \"\"\" Return the mean loss for this batch\n",
    "    :param logits: [batch_size, num_class]\n",
    "    :param labels: [batch_size]\n",
    "    :return loss \n",
    "    \"\"\"\n",
    "    # Appliquer softmax pour obtenir les probabilités\n",
    "    probs = torch.exp(logits) / torch.exp(logits).sum(dim=1, keepdim=True)\n",
    "    \n",
    "    # Extraire les probabilités associées aux labels corrects\n",
    "    correct_probs = probs[torch.arange(logits.shape[0]), labels]\n",
    "    \n",
    "    # Calculer la perte d'entropie croisée\n",
    "    loss = -torch.log(correct_probs).mean()\n",
    "    \n",
    "    return loss\n"
   ]
  },
  {
   "cell_type": "code",
   "execution_count": null,
   "metadata": {},
   "outputs": [],
   "source": []
  },
  {
   "cell_type": "code",
   "execution_count": 5,
   "metadata": {},
   "outputs": [],
   "source": [
    "import torch\n",
    "import torch.nn.functional as F\n",
    "\n",
    "def cross_entropy_loss2(logits: torch.Tensor, labels: torch.Tensor):\n",
    "    \"\"\"\n",
    "    Return the mean loss for this batch\n",
    "\n",
    "    :param logits: [batch_size, num_class]\n",
    "    :param labels: [batch_size]\n",
    "    :return loss\n",
    "    \"\"\"\n",
    "    # Calculate log softmax\n",
    "    log_softmax = torch.log_softmax(logits, dim=1)\n",
    "\n",
    "    # Gather probabilities corresponding to labels\n",
    "    label_probs = log_softmax.gather(dim=1, index=labels.unsqueeze(1))\n",
    "\n",
    "    # Calculate mean of negative log probabilities\n",
    "    loss = -label_probs.mean()\n",
    "\n",
    "    return loss"
   ]
  },
  {
   "cell_type": "code",
   "execution_count": 7,
   "metadata": {},
   "outputs": [
    {
     "name": "stdout",
     "output_type": "stream",
     "text": [
      "tensor(2.6273)\n",
      "tensor(2.6273)\n",
      "tensor(2.6273)\n"
     ]
    }
   ],
   "source": [
    "# Create random tensors\n",
    "logits = torch.randn(10, 5)\n",
    "labels = torch.randint(0, 5, (10,))\n",
    "\n",
    "# Calculate cross entropy loss\n",
    "loss1 = cross_entropy_loss1(logits, labels)\n",
    "loss2 = cross_entropy_loss2(logits, labels)\n",
    "loss_torch = F.cross_entropy(logits, labels)\n",
    "\n",
    "print(loss1)\n",
    "print(loss2)\n",
    "print(loss_torch)"
   ]
  }
 ],
 "metadata": {
  "kernelspec": {
   "display_name": "ift2125",
   "language": "python",
   "name": "python3"
  },
  "language_info": {
   "codemirror_mode": {
    "name": "ipython",
    "version": 3
   },
   "file_extension": ".py",
   "mimetype": "text/x-python",
   "name": "python",
   "nbconvert_exporter": "python",
   "pygments_lexer": "ipython3",
   "version": "3.12.0"
  }
 },
 "nbformat": 4,
 "nbformat_minor": 2
}
